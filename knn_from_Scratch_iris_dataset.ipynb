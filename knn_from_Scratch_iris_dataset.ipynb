{
  "nbformat": 4,
  "nbformat_minor": 0,
  "metadata": {
    "colab": {
      "name": "knn_from_Scratch_iris_dataset.ipynb",
      "provenance": [],
      "collapsed_sections": [],
      "authorship_tag": "ABX9TyPdhhoXc0coMZXui4DCqBsI",
      "include_colab_link": true
    },
    "kernelspec": {
      "name": "python3",
      "display_name": "Python 3"
    },
    "language_info": {
      "name": "python"
    }
  },
  "cells": [
    {
      "cell_type": "markdown",
      "metadata": {
        "id": "view-in-github",
        "colab_type": "text"
      },
      "source": [
        "<a href=\"https://colab.research.google.com/github/Apoorv1401/Ml_From_Scratch/blob/main/knn_from_Scratch_iris_dataset.ipynb\" target=\"_parent\"><img src=\"https://colab.research.google.com/assets/colab-badge.svg\" alt=\"Open In Colab\"/></a>"
      ]
    },
    {
      "cell_type": "code",
      "metadata": {
        "id": "iWTHiBaIAX4Z"
      },
      "source": [
        "from math import sqrt"
      ],
      "execution_count": 1,
      "outputs": []
    },
    {
      "cell_type": "code",
      "metadata": {
        "id": "sxAhSdGmAa3Q"
      },
      "source": [
        "#The function asuumes that last column in each row is the output that's why length(row) - 1\n",
        "def Euclidean_distance(row1, row2):\n",
        "  distance = 0.0\n",
        "  for i in range(len(row1)-1):\n",
        "    distance += (row1[i] - row2[i])**2\n",
        "  return sqrt(distance)"
      ],
      "execution_count": 2,
      "outputs": []
    },
    {
      "cell_type": "code",
      "metadata": {
        "id": "xJFc8xbDAgIs"
      },
      "source": [
        "#getting the most similar neigbours\n",
        "def get_nearest_neighbours(X_train, X_test_row, no_of_neighbours):\n",
        "  distances = []\n",
        "  for pos, train_row in enumerate(X_train):\n",
        "    dist = Euclidean_distance(X_test_row, train_row)\n",
        "    distances.append((train_row, dist, pos)) #here we are appending the row, distance and pos so we can find which is the target for the row according to the\n",
        "                                            #nearest neigbors \n",
        "\n",
        "  # print('distances', distances)\n",
        "\n",
        "  distances.sort(key= lambda x: x[1])\n",
        "  neighbors = []\n",
        "  for i in range(no_of_neighbours):\n",
        "    neighbors.append((distances[i][0], distances[i][2]))\n",
        "   \n",
        "  return neighbors"
      ],
      "execution_count": 54,
      "outputs": []
    },
    {
      "cell_type": "code",
      "metadata": {
        "colab": {
          "base_uri": "https://localhost:8080/"
        },
        "id": "bvvuCRbvDmsw",
        "outputId": "5e63c6c5-212b-4daa-d70f-ef7567910ac9"
      },
      "source": [
        "get_nearest_neighbours(X_train, X_train[0], 3)"
      ],
      "execution_count": 52,
      "outputs": [
        {
          "output_type": "stream",
          "text": [
            "distances [(array([5.1, 3.5, 1.4, 0.2]), 0.0, 0), (array([4.9, 3. , 1.4, 0.2]), 0.5385164807134502, 1), (array([4.7, 3.2, 1.3, 0.2]), 0.509901951359278, 2), (array([4.6, 3.1, 1.5, 0.2]), 0.648074069840786, 3), (array([5. , 3.6, 1.4, 0.2]), 0.1414213562373093, 4), (array([5.4, 3.9, 1.7, 0.4]), 0.5830951894845303, 5), (array([4.6, 3.4, 1.4, 0.3]), 0.5099019513592785, 6), (array([5. , 3.4, 1.5, 0.2]), 0.17320508075688762, 7), (array([4.4, 2.9, 1.4, 0.2]), 0.9219544457292882, 8), (array([4.9, 3.1, 1.5, 0.1]), 0.4582575694955836, 9)]\n"
          ],
          "name": "stdout"
        },
        {
          "output_type": "execute_result",
          "data": {
            "text/plain": [
              "[(array([5.1, 3.5, 1.4, 0.2]), 0),\n",
              " (array([5. , 3.6, 1.4, 0.2]), 4),\n",
              " (array([5. , 3.4, 1.5, 0.2]), 7)]"
            ]
          },
          "metadata": {
            "tags": []
          },
          "execution_count": 52
        }
      ]
    },
    {
      "cell_type": "code",
      "metadata": {
        "id": "U4kRPplSAi4K"
      },
      "source": [
        "#Now we make predictions\n",
        "#First we get the top k nearest neigbours using the functions get_nearest_neighbours\n",
        "#Then we are taking the set of values that is taking unique targets and then calculating the maximum number for example in [0,1,1]\n",
        "#set([0,1,1]) will give {0, 1} and max() will give {1} since 1 appears two times while 0 appeared one time.\n",
        "def predicting_class(train, test_row, no_of_neighbors, X_test):\n",
        "  neighbors = get_nearest_neighbours(train, test_row, no_of_neighbors)\n",
        "  # print(neighbors)\n",
        "  values = [X_test[row[-1]] for row in neighbors]\n",
        "  predict = max(set(values), key=values.count)\n",
        "  return predict"
      ],
      "execution_count": 69,
      "outputs": []
    },
    {
      "cell_type": "code",
      "metadata": {
        "colab": {
          "base_uri": "https://localhost:8080/"
        },
        "id": "JL7nhKPYJ9g3",
        "outputId": "17e1327b-98aa-40b0-93d9-2e8209e873ac"
      },
      "source": [
        "predicting_class(X_train, X_train[0], 3, X_test)"
      ],
      "execution_count": 70,
      "outputs": [
        {
          "output_type": "stream",
          "text": [
            "[(array([5.1, 3.5, 1.4, 0.2]), 0), (array([5. , 3.6, 1.4, 0.2]), 4), (array([5. , 3.4, 1.5, 0.2]), 7)]\n"
          ],
          "name": "stdout"
        },
        {
          "output_type": "execute_result",
          "data": {
            "text/plain": [
              "0"
            ]
          },
          "metadata": {
            "tags": []
          },
          "execution_count": 70
        }
      ]
    },
    {
      "cell_type": "code",
      "metadata": {
        "id": "LS-vBpAUTcCC"
      },
      "source": [
        "#calculating how many predictions we got correct. so we compare our prediction y_pred with the actual value. then divide by total predictions \n",
        "#multiplying by 100 gives us the accuracy percentage.\n",
        "def accuracy_metric(actual, y_pred):\n",
        "\tcorrect = 0\n",
        "\tfor i in range(len(actual)):\n",
        "\t\tif actual[i] == y_pred[i]:\n",
        "\t\t\tcorrect += 1\n",
        "\treturn correct / float(len(actual)) * 100.0"
      ],
      "execution_count": 5,
      "outputs": []
    },
    {
      "cell_type": "code",
      "metadata": {
        "id": "YmcFdct1E5NX"
      },
      "source": [
        "from sklearn.datasets import load_iris\n",
        "iris = load_iris()"
      ],
      "execution_count": 78,
      "outputs": []
    },
    {
      "cell_type": "code",
      "metadata": {
        "id": "xJ7OTwSrGJ1c"
      },
      "source": [
        "# iris['DESCR']"
      ],
      "execution_count": 7,
      "outputs": []
    },
    {
      "cell_type": "code",
      "metadata": {
        "id": "pk8HMKO0GM-n"
      },
      "source": [
        "# iris['target_names']\n",
        "# # iris['target']"
      ],
      "execution_count": 8,
      "outputs": []
    },
    {
      "cell_type": "code",
      "metadata": {
        "id": "qq-jy1lGJiDc"
      },
      "source": [
        "X_train = iris['data']\n",
        "X_test = iris['target']"
      ],
      "execution_count": 79,
      "outputs": []
    },
    {
      "cell_type": "code",
      "metadata": {
        "id": "GF3mRHV_J11p"
      },
      "source": [
        "# kNN Algorithm\n",
        "def k_nearest_neighbors(train, test, no_of_neighbors, X_test):\n",
        "\tpredictions = []\n",
        "\tfor row in test:\n",
        "\t\toutput = predicting_class(train, row, no_of_neighbors, X_test)\n",
        "\t\tpredictions.append(output)\n",
        "\treturn(predictions)\n"
      ],
      "execution_count": 71,
      "outputs": []
    },
    {
      "cell_type": "code",
      "metadata": {
        "id": "h8WGgxmKMTMp"
      },
      "source": [
        "# k_nearest_neighbors(X_train, X_train, 3, X_test)"
      ],
      "execution_count": 1,
      "outputs": []
    },
    {
      "cell_type": "code",
      "metadata": {
        "id": "b07O5BolUPRT"
      },
      "source": [
        "#now we will use the X_train dataset to predict the n nearest neighbours. Based on that the target neigbours will be assigned.\n",
        "#Then to check the accuracy of our methos we will use the accuracy matrix which gives us the (number_of_correct_predictions / total_predictions)"
      ],
      "execution_count": 12,
      "outputs": []
    },
    {
      "cell_type": "code",
      "metadata": {
        "colab": {
          "base_uri": "https://localhost:8080/"
        },
        "id": "TqTBxvcjVma7",
        "outputId": "97c3370b-4e69-4fa5-a0e5-da05e5596beb"
      },
      "source": [
        "print(X_train.shape)\n",
        "print(X_test.shape)"
      ],
      "execution_count": 80,
      "outputs": [
        {
          "output_type": "stream",
          "text": [
            "(150, 4)\n",
            "(150,)\n"
          ],
          "name": "stdout"
        }
      ]
    },
    {
      "cell_type": "code",
      "metadata": {
        "id": "33puH3z2Vxq_"
      },
      "source": [
        "no_of_neighbors = 5\n",
        "# X_train = X_train[:10]\n",
        "# X_test = X_test[:10]\n",
        "\n",
        "y_pred = k_nearest_neighbors(X_train, X_train, no_of_neighbors, X_test)"
      ],
      "execution_count": null,
      "outputs": []
    },
    {
      "cell_type": "code",
      "metadata": {
        "colab": {
          "base_uri": "https://localhost:8080/"
        },
        "id": "3Ek4Y8rjkrEx",
        "outputId": "c6f5b1ba-6aac-4c15-cb59-e2dce9dca6fc"
      },
      "source": [
        "# len(y_pred)\n",
        "# print(y_pred[:5])\n",
        "# print(X_test[:5])"
      ],
      "execution_count": 82,
      "outputs": [
        {
          "output_type": "stream",
          "text": [
            "[0, 0, 0, 0, 0]\n",
            "[0 0 0 0 0]\n"
          ],
          "name": "stdout"
        }
      ]
    },
    {
      "cell_type": "code",
      "metadata": {
        "id": "nH4JGJKGkghl"
      },
      "source": [
        "accuracy_scores = accuracy_metric(X_test, y_pred)"
      ],
      "execution_count": 83,
      "outputs": []
    },
    {
      "cell_type": "code",
      "metadata": {
        "colab": {
          "base_uri": "https://localhost:8080/"
        },
        "id": "moWfNntyWOro",
        "outputId": "176ee926-b3de-4857-9c9f-cdf5dd1a82a2"
      },
      "source": [
        "print('Accuracy Scores: ', accuracy_scores)"
      ],
      "execution_count": 84,
      "outputs": [
        {
          "output_type": "stream",
          "text": [
            "Accuracy Scores:  96.0\n"
          ],
          "name": "stdout"
        }
      ]
    }
  ]
}